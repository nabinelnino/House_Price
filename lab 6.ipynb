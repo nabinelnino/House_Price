{
 "cells": [
  {
   "cell_type": "markdown",
   "id": "97ad20ed",
   "metadata": {},
   "source": [
    "\n",
    "####  Nabin Bagale"
   ]
  },
  {
   "cell_type": "markdown",
   "id": "4ab93dba",
   "metadata": {},
   "source": [
    "### Part 1 - Create and evaluate an initial model\n",
    "\n",
    "In this part you should: \n",
    " - read in the data\n",
    " - isolate all numeric features from original data set\n",
    " - fill in any missing values with 0\n",
    " - create and evaluate a baseline model \n"
   ]
  },
  {
   "cell_type": "code",
   "execution_count": 53,
   "id": "014aac56",
   "metadata": {},
   "outputs": [],
   "source": [
    "#Importing libraries\n",
    "import pandas as pd\n",
    "from sklearn.model_selection import train_test_split\n",
    "from sklearn.ensemble import RandomForestRegressor\n",
    "from sklearn.metrics import mean_absolute_error, r2_score\n",
    "from sklearn.model_selection import train_test_split\n",
    "from sklearn.ensemble import RandomForestRegressor\n",
    "from sklearn.metrics import mean_absolute_error, r2_score\n",
    "import numpy as np\n",
    "import warnings\n",
    "from sklearn.preprocessing import OrdinalEncoder\n",
    "import category_encoders as ce\n",
    "warnings.filterwarnings('ignore')"
   ]
  },
  {
   "cell_type": "code",
   "execution_count": 78,
   "id": "edf95bd5",
   "metadata": {
    "scrolled": true
   },
   "outputs": [
    {
     "data": {
      "text/html": [
       "<div>\n",
       "<style scoped>\n",
       "    .dataframe tbody tr th:only-of-type {\n",
       "        vertical-align: middle;\n",
       "    }\n",
       "\n",
       "    .dataframe tbody tr th {\n",
       "        vertical-align: top;\n",
       "    }\n",
       "\n",
       "    .dataframe thead th {\n",
       "        text-align: right;\n",
       "    }\n",
       "</style>\n",
       "<table border=\"1\" class=\"dataframe\">\n",
       "  <thead>\n",
       "    <tr style=\"text-align: right;\">\n",
       "      <th></th>\n",
       "      <th>Eng Displ</th>\n",
       "      <th># Cyl</th>\n",
       "      <th>Comb Unadj FE - Conventional Fuel</th>\n",
       "      <th># Gears</th>\n",
       "      <th>Max Ethanol % - Gasoline</th>\n",
       "      <th>Intake Valves Per Cyl</th>\n",
       "      <th>Exhaust Valves Per Cyl</th>\n",
       "      <th>Trans Creeper Gear</th>\n",
       "      <th>Unique Label?</th>\n",
       "      <th>Air Aspiration Method Desc</th>\n",
       "      <th>Fuel Metering Sys Desc</th>\n",
       "      <th>Cyl Deact?</th>\n",
       "    </tr>\n",
       "  </thead>\n",
       "  <tbody>\n",
       "    <tr>\n",
       "      <th>0</th>\n",
       "      <td>NaN</td>\n",
       "      <td>4</td>\n",
       "      <td>32.8729</td>\n",
       "      <td>6</td>\n",
       "      <td>10.0</td>\n",
       "      <td>2</td>\n",
       "      <td>2</td>\n",
       "      <td>N</td>\n",
       "      <td>N</td>\n",
       "      <td>Naturally Aspirated</td>\n",
       "      <td>Multipoint/sequential fuel injection</td>\n",
       "      <td>N</td>\n",
       "    </tr>\n",
       "    <tr>\n",
       "      <th>1</th>\n",
       "      <td>NaN</td>\n",
       "      <td>4</td>\n",
       "      <td>41.5766</td>\n",
       "      <td>6</td>\n",
       "      <td>10.0</td>\n",
       "      <td>2</td>\n",
       "      <td>2</td>\n",
       "      <td>N</td>\n",
       "      <td>N</td>\n",
       "      <td>none given</td>\n",
       "      <td>Spark Ignition Direct Injection</td>\n",
       "      <td>N</td>\n",
       "    </tr>\n",
       "    <tr>\n",
       "      <th>2</th>\n",
       "      <td>1.8</td>\n",
       "      <td>4</td>\n",
       "      <td>42.3624</td>\n",
       "      <td>6</td>\n",
       "      <td>15.0</td>\n",
       "      <td>2</td>\n",
       "      <td>2</td>\n",
       "      <td>N</td>\n",
       "      <td>N</td>\n",
       "      <td>none given</td>\n",
       "      <td>Multipoint/sequential fuel injection</td>\n",
       "      <td></td>\n",
       "    </tr>\n",
       "    <tr>\n",
       "      <th>3</th>\n",
       "      <td>3.5</td>\n",
       "      <td>6</td>\n",
       "      <td>29.3963</td>\n",
       "      <td>6</td>\n",
       "      <td>10.0</td>\n",
       "      <td>2</td>\n",
       "      <td>2</td>\n",
       "      <td>N</td>\n",
       "      <td>N</td>\n",
       "      <td>none given</td>\n",
       "      <td>Spark Ignition Direct Injection</td>\n",
       "      <td></td>\n",
       "    </tr>\n",
       "    <tr>\n",
       "      <th>4</th>\n",
       "      <td>NaN</td>\n",
       "      <td>6</td>\n",
       "      <td>25.4694</td>\n",
       "      <td>6</td>\n",
       "      <td>85.0</td>\n",
       "      <td>2</td>\n",
       "      <td>2</td>\n",
       "      <td>N</td>\n",
       "      <td>N</td>\n",
       "      <td>Naturally Aspirated</td>\n",
       "      <td>Multipoint/sequential fuel injection</td>\n",
       "      <td>N</td>\n",
       "    </tr>\n",
       "  </tbody>\n",
       "</table>\n",
       "</div>"
      ],
      "text/plain": [
       "   Eng Displ  # Cyl Comb Unadj FE - Conventional Fuel  # Gears  \\\n",
       "0        NaN      4                           32.8729        6   \n",
       "1        NaN      4                           41.5766        6   \n",
       "2        1.8      4                           42.3624        6   \n",
       "3        3.5      6                           29.3963        6   \n",
       "4        NaN      6                           25.4694        6   \n",
       "\n",
       "   Max Ethanol % - Gasoline  Intake Valves Per Cyl  Exhaust Valves Per Cyl  \\\n",
       "0                      10.0                      2                       2   \n",
       "1                      10.0                      2                       2   \n",
       "2                      15.0                      2                       2   \n",
       "3                      10.0                      2                       2   \n",
       "4                      85.0                      2                       2   \n",
       "\n",
       "  Trans Creeper Gear Unique Label? Air Aspiration Method Desc  \\\n",
       "0                  N             N        Naturally Aspirated   \n",
       "1                  N             N                 none given   \n",
       "2                  N             N                 none given   \n",
       "3                  N             N                 none given   \n",
       "4                  N             N        Naturally Aspirated   \n",
       "\n",
       "                 Fuel Metering Sys Desc Cyl Deact?  \n",
       "0  Multipoint/sequential fuel injection          N  \n",
       "1       Spark Ignition Direct Injection          N  \n",
       "2  Multipoint/sequential fuel injection             \n",
       "3       Spark Ignition Direct Injection             \n",
       "4  Multipoint/sequential fuel injection          N  "
      ]
     },
     "execution_count": 78,
     "metadata": {},
     "output_type": "execute_result"
    }
   ],
   "source": [
    "#Reading data\n",
    "df = pd.read_csv(\"veh16_missing.csv\")\n",
    "df.head()"
   ]
  },
  {
   "cell_type": "code",
   "execution_count": 79,
   "id": "2fd1d11e",
   "metadata": {},
   "outputs": [
    {
     "data": {
      "text/plain": [
       "Index(['Eng Displ', '# Cyl', '# Gears', 'Max Ethanol % - Gasoline',\n",
       "       'Intake Valves Per Cyl', 'Exhaust Valves Per Cyl'],\n",
       "      dtype='object')"
      ]
     },
     "execution_count": 79,
     "metadata": {},
     "output_type": "execute_result"
    }
   ],
   "source": [
    "#getting numeric values and identifying missing values\n",
    "df_num = df.select_dtypes(include=None, exclude=object)\n",
    "df_num.columns"
   ]
  },
  {
   "cell_type": "markdown",
   "id": "f5286e1d",
   "metadata": {},
   "source": [
    "### Selecting Numeric featurtes\n",
    "In this part we extracted all the numeric features and converted response variable 'Comb Unadj FE - Conventional Fuel' into numeric variable from type object.\n"
   ]
  },
  {
   "cell_type": "code",
   "execution_count": 80,
   "id": "1c396e01",
   "metadata": {},
   "outputs": [],
   "source": [
    "#selecting numeric features\n",
    "vehicle_numeric = ['Eng Displ', '# Cyl', '# Gears', 'Max Ethanol % - Gasoline', 'Intake Valves Per Cyl', 'Exhaust Valves Per Cyl']\n",
    "X = vehicle[vehicle_numeric]\n",
    "y= vehicle['Comb Unadj FE - Conventional Fuel']\n",
    "y = pd.to_numeric(y,errors = 'coerce')"
   ]
  },
  {
   "cell_type": "markdown",
   "id": "cc43e3da",
   "metadata": {},
   "source": [
    "In this part we replaced  missing values in numeric column by 0"
   ]
  },
  {
   "cell_type": "code",
   "execution_count": 81,
   "id": "2e168145",
   "metadata": {
    "scrolled": true
   },
   "outputs": [],
   "source": [
    "X = X.fillna(0)\n",
    "y=y.fillna(0)\n"
   ]
  },
  {
   "cell_type": "markdown",
   "id": "1b63f0a9",
   "metadata": {},
   "source": [
    "In order to create Baseline model for numeric column, we converted all missing values into 0 in above step and in the following step we have created baseline model to calculate initial Out of Bag (OOB) Score. The oob score is an average of 10 runs and we have used 150 trees for our random forest model. In order to compare this model to our final model we have assign oob score to variable oob_from_1st_part."
   ]
  },
  {
   "cell_type": "code",
   "execution_count": 82,
   "id": "99846cf6",
   "metadata": {},
   "outputs": [
    {
     "name": "stdout",
     "output_type": "stream",
     "text": [
      "Mean oob score:  0.7379333943346686\n"
     ]
    }
   ],
   "source": [
    "oob_scores = []\n",
    "\n",
    "for i in range(10):\n",
    "    rf = RandomForestRegressor(n_estimators=150, n_jobs=-1, oob_score=True) \n",
    "    rf.fit(X, y)\n",
    "    oob_scores.append(rf.oob_score_)\n",
    "    oob_from_1st_part = np.mean(oob_scores)\n",
    "print(\"Mean oob score: \", np.mean(oob_scores))\n"
   ]
  },
  {
   "cell_type": "markdown",
   "id": "814cf658",
   "metadata": {},
   "source": [
    "### Part 2 - Normalize missing values\n",
    "\n",
    "In this part you should: \n",
    " -\n",
    " - convert **all** representations of missing data to a **single** representation\n"
   ]
  },
  {
   "cell_type": "markdown",
   "id": "75711d34",
   "metadata": {},
   "source": [
    "In this part we Normalized different representation of Missing Values into a single missing data representation :`np.nan` and hence all the missing data and unusual values were replaced by same NaN value."
   ]
  },
  {
   "cell_type": "code",
   "execution_count": 83,
   "id": "39a4a647",
   "metadata": {},
   "outputs": [],
   "source": [
    "from pandas.api.types import is_string_dtype, is_object_dtype\n",
    "def df_normalize_strings(df):\n",
    "    for col in df.columns:\n",
    "        if is_string_dtype(df[col]) or is_object_dtype(df[col]):\n",
    "            df[col] = df[col].str.lower()\n",
    "            df[col] = df[col].fillna(np.nan) # make None -> np.nan\n",
    "            df[col] = df[col].replace('none or unspecified', np.nan)\n",
    "            df[col] = df[col].replace('none', np.nan)\n",
    "            df[col] = df[col].replace('#name?', np.nan)\n",
    "            df[col] = df[col].replace('   ', np.nan)\n",
    "            df[col] = df[col].replace('\\n',np.nan, regex=True)\n",
    "            df[col] = df[col].replace('nan', np.nan)\n",
    "            df[col] = df[col].replace('@@@@@',np.nan)\n",
    "            df[col] = df[col].replace('none given',np.nan)\n",
    "            df[col] = df[col].replace('', np.nan)"
   ]
  },
  {
   "cell_type": "code",
   "execution_count": 84,
   "id": "e957aa26",
   "metadata": {},
   "outputs": [],
   "source": [
    "df_normalize_strings(df)\n"
   ]
  },
  {
   "cell_type": "code",
   "execution_count": 85,
   "id": "b9965891",
   "metadata": {
    "scrolled": false
   },
   "outputs": [
    {
     "data": {
      "text/html": [
       "<div>\n",
       "<style scoped>\n",
       "    .dataframe tbody tr th:only-of-type {\n",
       "        vertical-align: middle;\n",
       "    }\n",
       "\n",
       "    .dataframe tbody tr th {\n",
       "        vertical-align: top;\n",
       "    }\n",
       "\n",
       "    .dataframe thead th {\n",
       "        text-align: right;\n",
       "    }\n",
       "</style>\n",
       "<table border=\"1\" class=\"dataframe\">\n",
       "  <thead>\n",
       "    <tr style=\"text-align: right;\">\n",
       "      <th></th>\n",
       "      <th>Eng Displ</th>\n",
       "      <th># Cyl</th>\n",
       "      <th>Comb Unadj FE - Conventional Fuel</th>\n",
       "      <th># Gears</th>\n",
       "      <th>Max Ethanol % - Gasoline</th>\n",
       "      <th>Intake Valves Per Cyl</th>\n",
       "      <th>Exhaust Valves Per Cyl</th>\n",
       "      <th>Trans Creeper Gear</th>\n",
       "      <th>Unique Label?</th>\n",
       "      <th>Air Aspiration Method Desc</th>\n",
       "      <th>Fuel Metering Sys Desc</th>\n",
       "      <th>Cyl Deact?</th>\n",
       "    </tr>\n",
       "  </thead>\n",
       "  <tbody>\n",
       "    <tr>\n",
       "      <th>0</th>\n",
       "      <td>NaN</td>\n",
       "      <td>4</td>\n",
       "      <td>32.8729</td>\n",
       "      <td>6</td>\n",
       "      <td>10.0</td>\n",
       "      <td>2</td>\n",
       "      <td>2</td>\n",
       "      <td>n</td>\n",
       "      <td>n</td>\n",
       "      <td>naturally aspirated</td>\n",
       "      <td>multipoint/sequential fuel injection</td>\n",
       "      <td>n</td>\n",
       "    </tr>\n",
       "    <tr>\n",
       "      <th>1</th>\n",
       "      <td>NaN</td>\n",
       "      <td>4</td>\n",
       "      <td>41.5766</td>\n",
       "      <td>6</td>\n",
       "      <td>10.0</td>\n",
       "      <td>2</td>\n",
       "      <td>2</td>\n",
       "      <td>n</td>\n",
       "      <td>n</td>\n",
       "      <td>NaN</td>\n",
       "      <td>spark ignition direct injection</td>\n",
       "      <td>n</td>\n",
       "    </tr>\n",
       "    <tr>\n",
       "      <th>2</th>\n",
       "      <td>1.8</td>\n",
       "      <td>4</td>\n",
       "      <td>42.3624</td>\n",
       "      <td>6</td>\n",
       "      <td>15.0</td>\n",
       "      <td>2</td>\n",
       "      <td>2</td>\n",
       "      <td>n</td>\n",
       "      <td>n</td>\n",
       "      <td>NaN</td>\n",
       "      <td>multipoint/sequential fuel injection</td>\n",
       "      <td>NaN</td>\n",
       "    </tr>\n",
       "    <tr>\n",
       "      <th>3</th>\n",
       "      <td>3.5</td>\n",
       "      <td>6</td>\n",
       "      <td>29.3963</td>\n",
       "      <td>6</td>\n",
       "      <td>10.0</td>\n",
       "      <td>2</td>\n",
       "      <td>2</td>\n",
       "      <td>n</td>\n",
       "      <td>n</td>\n",
       "      <td>NaN</td>\n",
       "      <td>spark ignition direct injection</td>\n",
       "      <td>NaN</td>\n",
       "    </tr>\n",
       "    <tr>\n",
       "      <th>4</th>\n",
       "      <td>NaN</td>\n",
       "      <td>6</td>\n",
       "      <td>25.4694</td>\n",
       "      <td>6</td>\n",
       "      <td>85.0</td>\n",
       "      <td>2</td>\n",
       "      <td>2</td>\n",
       "      <td>n</td>\n",
       "      <td>n</td>\n",
       "      <td>naturally aspirated</td>\n",
       "      <td>multipoint/sequential fuel injection</td>\n",
       "      <td>n</td>\n",
       "    </tr>\n",
       "  </tbody>\n",
       "</table>\n",
       "</div>"
      ],
      "text/plain": [
       "   Eng Displ  # Cyl Comb Unadj FE - Conventional Fuel  # Gears  \\\n",
       "0        NaN      4                           32.8729        6   \n",
       "1        NaN      4                           41.5766        6   \n",
       "2        1.8      4                           42.3624        6   \n",
       "3        3.5      6                           29.3963        6   \n",
       "4        NaN      6                           25.4694        6   \n",
       "\n",
       "   Max Ethanol % - Gasoline  Intake Valves Per Cyl  Exhaust Valves Per Cyl  \\\n",
       "0                      10.0                      2                       2   \n",
       "1                      10.0                      2                       2   \n",
       "2                      15.0                      2                       2   \n",
       "3                      10.0                      2                       2   \n",
       "4                      85.0                      2                       2   \n",
       "\n",
       "  Trans Creeper Gear Unique Label? Air Aspiration Method Desc  \\\n",
       "0                  n             n        naturally aspirated   \n",
       "1                  n             n                        NaN   \n",
       "2                  n             n                        NaN   \n",
       "3                  n             n                        NaN   \n",
       "4                  n             n        naturally aspirated   \n",
       "\n",
       "                 Fuel Metering Sys Desc Cyl Deact?  \n",
       "0  multipoint/sequential fuel injection          n  \n",
       "1       spark ignition direct injection          n  \n",
       "2  multipoint/sequential fuel injection        NaN  \n",
       "3       spark ignition direct injection        NaN  \n",
       "4  multipoint/sequential fuel injection          n  "
      ]
     },
     "execution_count": 85,
     "metadata": {},
     "output_type": "execute_result"
    }
   ],
   "source": [
    "df.head()"
   ]
  },
  {
   "cell_type": "markdown",
   "id": "ea6c2f8b",
   "metadata": {},
   "source": [
    "#### Question (5 marks)\n",
    "\n",
    "Note here all the different ways missing data was represented in the data.   \n",
    "\n",
    "Basically data type in our data set contains two types i.e numeric and object. Data in some column are complete, however, others have missing values. The unusual and meaningless values in the object data type are also considered as the missing values. \n",
    "For numeric data we have replaced missing values with value 0 in each fields. When it comes to the values having object datatype, we considered *empty* data as missing values and replaced with the NaN values. Similaryly,  **none or unspecified**, **#name?** , **double space like '  '**, **single space like, ''**, **none given** and multi space cells are considered as missing values and replaced with NaN value. Moreover, the value **@@@@@** is present in the data set and which does not give any sense to the data so we considered this as missing values and replaced with numpy's np.nan(not a number) values.\n"
   ]
  },
  {
   "cell_type": "markdown",
   "id": "300e6a77",
   "metadata": {},
   "source": [
    "### Part 3 - Categorical features\n",
    "\n",
    "In this part you should: \n",
    " - only use ordinal encoding \n",
    " - convert **all** non-numeric features to numeric \n",
    " - handle any missing values\n"
   ]
  },
  {
   "cell_type": "markdown",
   "id": "66fda59b",
   "metadata": {},
   "source": [
    "In this part,  we converted the categorical column to numeric values by converting the column to an ordered categorical variable and then replace the category with their category integer codes using ordinal encoder. And the missing values in each column is representated by 0."
   ]
  },
  {
   "cell_type": "code",
   "execution_count": 86,
   "id": "a20ebdd2",
   "metadata": {
    "scrolled": true
   },
   "outputs": [
    {
     "data": {
      "text/html": [
       "<div>\n",
       "<style scoped>\n",
       "    .dataframe tbody tr th:only-of-type {\n",
       "        vertical-align: middle;\n",
       "    }\n",
       "\n",
       "    .dataframe tbody tr th {\n",
       "        vertical-align: top;\n",
       "    }\n",
       "\n",
       "    .dataframe thead th {\n",
       "        text-align: right;\n",
       "    }\n",
       "</style>\n",
       "<table border=\"1\" class=\"dataframe\">\n",
       "  <thead>\n",
       "    <tr style=\"text-align: right;\">\n",
       "      <th></th>\n",
       "      <th>Trans Creeper Gear</th>\n",
       "      <th>Unique Label?</th>\n",
       "      <th>Air Aspiration Method Desc</th>\n",
       "      <th>Fuel Metering Sys Desc</th>\n",
       "      <th>Cyl Deact?</th>\n",
       "    </tr>\n",
       "  </thead>\n",
       "  <tbody>\n",
       "    <tr>\n",
       "      <th>0</th>\n",
       "      <td>1.0</td>\n",
       "      <td>1.0</td>\n",
       "      <td>1.0</td>\n",
       "      <td>1.0</td>\n",
       "      <td>1.0</td>\n",
       "    </tr>\n",
       "    <tr>\n",
       "      <th>1</th>\n",
       "      <td>1.0</td>\n",
       "      <td>1.0</td>\n",
       "      <td>NaN</td>\n",
       "      <td>2.0</td>\n",
       "      <td>1.0</td>\n",
       "    </tr>\n",
       "    <tr>\n",
       "      <th>2</th>\n",
       "      <td>1.0</td>\n",
       "      <td>1.0</td>\n",
       "      <td>NaN</td>\n",
       "      <td>1.0</td>\n",
       "      <td>NaN</td>\n",
       "    </tr>\n",
       "    <tr>\n",
       "      <th>3</th>\n",
       "      <td>1.0</td>\n",
       "      <td>1.0</td>\n",
       "      <td>NaN</td>\n",
       "      <td>2.0</td>\n",
       "      <td>NaN</td>\n",
       "    </tr>\n",
       "    <tr>\n",
       "      <th>4</th>\n",
       "      <td>1.0</td>\n",
       "      <td>1.0</td>\n",
       "      <td>1.0</td>\n",
       "      <td>1.0</td>\n",
       "      <td>1.0</td>\n",
       "    </tr>\n",
       "  </tbody>\n",
       "</table>\n",
       "</div>"
      ],
      "text/plain": [
       "   Trans Creeper Gear  Unique Label?  Air Aspiration Method Desc  \\\n",
       "0                 1.0            1.0                         1.0   \n",
       "1                 1.0            1.0                         NaN   \n",
       "2                 1.0            1.0                         NaN   \n",
       "3                 1.0            1.0                         NaN   \n",
       "4                 1.0            1.0                         1.0   \n",
       "\n",
       "   Fuel Metering Sys Desc  Cyl Deact?  \n",
       "0                     1.0         1.0  \n",
       "1                     2.0         1.0  \n",
       "2                     1.0         NaN  \n",
       "3                     2.0         NaN  \n",
       "4                     1.0         1.0  "
      ]
     },
     "execution_count": 86,
     "metadata": {},
     "output_type": "execute_result"
    }
   ],
   "source": [
    "encoder = OrdinalEncoder()\n",
    "cat_features = ['Trans Creeper Gear','Unique Label?', 'Air Aspiration Method Desc', 'Fuel Metering Sys Desc','Cyl Deact?']\n",
    "cat_col = df[cat_features]\n",
    "ordinal_enc =ce.ordinal.OrdinalEncoder(cols=cat_features,handle_missing='return_nan')\n",
    "cat_col = ordinal_enc.fit_transform(cat_col)\n",
    "cat_col.head()"
   ]
  },
  {
   "cell_type": "code",
   "execution_count": 87,
   "id": "00c9458e",
   "metadata": {},
   "outputs": [],
   "source": [
    "#checking whether the categorical columns have missing values or not\n",
    "def sniff_modified(df):\n",
    "    with pd.option_context(\"display.max_colwidth\", 20):\n",
    "        info = pd.DataFrame()\n",
    "        info['data type'] = df.dtypes\n",
    "        info['percent missing'] = df.isnull().sum()*100/len(df)\n",
    "        info['No. unique'] = df.apply(lambda x: len(x.unique()))\n",
    "        info['unique values'] = df.apply(lambda x: x.unique())\n",
    "        return info.sort_values('data type')"
   ]
  },
  {
   "cell_type": "code",
   "execution_count": 88,
   "id": "5638a263",
   "metadata": {
    "scrolled": true
   },
   "outputs": [
    {
     "data": {
      "text/html": [
       "<div>\n",
       "<style scoped>\n",
       "    .dataframe tbody tr th:only-of-type {\n",
       "        vertical-align: middle;\n",
       "    }\n",
       "\n",
       "    .dataframe tbody tr th {\n",
       "        vertical-align: top;\n",
       "    }\n",
       "\n",
       "    .dataframe thead th {\n",
       "        text-align: right;\n",
       "    }\n",
       "</style>\n",
       "<table border=\"1\" class=\"dataframe\">\n",
       "  <thead>\n",
       "    <tr style=\"text-align: right;\">\n",
       "      <th></th>\n",
       "      <th>data type</th>\n",
       "      <th>percent missing</th>\n",
       "      <th>No. unique</th>\n",
       "      <th>unique values</th>\n",
       "    </tr>\n",
       "  </thead>\n",
       "  <tbody>\n",
       "    <tr>\n",
       "      <th>Trans Creeper Gear</th>\n",
       "      <td>float64</td>\n",
       "      <td>0.000000</td>\n",
       "      <td>2</td>\n",
       "      <td>[1.0, 2.0]</td>\n",
       "    </tr>\n",
       "    <tr>\n",
       "      <th>Unique Label?</th>\n",
       "      <td>float64</td>\n",
       "      <td>6.347898</td>\n",
       "      <td>3</td>\n",
       "      <td>[1.0, 2.0, nan]</td>\n",
       "    </tr>\n",
       "    <tr>\n",
       "      <th>Air Aspiration Method Desc</th>\n",
       "      <td>float64</td>\n",
       "      <td>43.363561</td>\n",
       "      <td>5</td>\n",
       "      <td>[1.0, nan, 3.0, 4.0, 5.0]</td>\n",
       "    </tr>\n",
       "    <tr>\n",
       "      <th>Fuel Metering Sys Desc</th>\n",
       "      <td>float64</td>\n",
       "      <td>30.667766</td>\n",
       "      <td>6</td>\n",
       "      <td>[1.0, 2.0, nan, 4.0, 5.0, 6.0]</td>\n",
       "    </tr>\n",
       "    <tr>\n",
       "      <th>Cyl Deact?</th>\n",
       "      <td>float64</td>\n",
       "      <td>43.528442</td>\n",
       "      <td>3</td>\n",
       "      <td>[1.0, nan, 3.0]</td>\n",
       "    </tr>\n",
       "  </tbody>\n",
       "</table>\n",
       "</div>"
      ],
      "text/plain": [
       "                           data type  percent missing  No. unique  \\\n",
       "Trans Creeper Gear           float64         0.000000           2   \n",
       "Unique Label?                float64         6.347898           3   \n",
       "Air Aspiration Method Desc   float64        43.363561           5   \n",
       "Fuel Metering Sys Desc       float64        30.667766           6   \n",
       "Cyl Deact?                   float64        43.528442           3   \n",
       "\n",
       "                                             unique values  \n",
       "Trans Creeper Gear                              [1.0, 2.0]  \n",
       "Unique Label?                              [1.0, 2.0, nan]  \n",
       "Air Aspiration Method Desc       [1.0, nan, 3.0, 4.0, 5.0]  \n",
       "Fuel Metering Sys Desc      [1.0, 2.0, nan, 4.0, 5.0, 6.0]  \n",
       "Cyl Deact?                                 [1.0, nan, 3.0]  "
      ]
     },
     "execution_count": 88,
     "metadata": {},
     "output_type": "execute_result"
    }
   ],
   "source": [
    "sniff_modified(cat_col)\n"
   ]
  },
  {
   "cell_type": "markdown",
   "id": "cc910bad",
   "metadata": {},
   "source": [
    "Above step shows that there is missing values in the data set so we have replaced all missing values by 0 in the subsequent stage."
   ]
  },
  {
   "cell_type": "code",
   "execution_count": 89,
   "id": "8edf7846",
   "metadata": {},
   "outputs": [
    {
     "data": {
      "text/html": [
       "<div>\n",
       "<style scoped>\n",
       "    .dataframe tbody tr th:only-of-type {\n",
       "        vertical-align: middle;\n",
       "    }\n",
       "\n",
       "    .dataframe tbody tr th {\n",
       "        vertical-align: top;\n",
       "    }\n",
       "\n",
       "    .dataframe thead th {\n",
       "        text-align: right;\n",
       "    }\n",
       "</style>\n",
       "<table border=\"1\" class=\"dataframe\">\n",
       "  <thead>\n",
       "    <tr style=\"text-align: right;\">\n",
       "      <th></th>\n",
       "      <th>data type</th>\n",
       "      <th>percent missing</th>\n",
       "      <th>No. unique</th>\n",
       "      <th>unique values</th>\n",
       "    </tr>\n",
       "  </thead>\n",
       "  <tbody>\n",
       "    <tr>\n",
       "      <th>Trans Creeper Gear</th>\n",
       "      <td>float64</td>\n",
       "      <td>0.0</td>\n",
       "      <td>2</td>\n",
       "      <td>[1.0, 2.0]</td>\n",
       "    </tr>\n",
       "    <tr>\n",
       "      <th>Unique Label?</th>\n",
       "      <td>float64</td>\n",
       "      <td>0.0</td>\n",
       "      <td>3</td>\n",
       "      <td>[1.0, 2.0, 0.0]</td>\n",
       "    </tr>\n",
       "    <tr>\n",
       "      <th>Air Aspiration Method Desc</th>\n",
       "      <td>float64</td>\n",
       "      <td>0.0</td>\n",
       "      <td>5</td>\n",
       "      <td>[1.0, 0.0, 3.0, 4.0, 5.0]</td>\n",
       "    </tr>\n",
       "    <tr>\n",
       "      <th>Fuel Metering Sys Desc</th>\n",
       "      <td>float64</td>\n",
       "      <td>0.0</td>\n",
       "      <td>6</td>\n",
       "      <td>[1.0, 2.0, 0.0, 4.0, 5.0, 6.0]</td>\n",
       "    </tr>\n",
       "    <tr>\n",
       "      <th>Cyl Deact?</th>\n",
       "      <td>float64</td>\n",
       "      <td>0.0</td>\n",
       "      <td>3</td>\n",
       "      <td>[1.0, 0.0, 3.0]</td>\n",
       "    </tr>\n",
       "  </tbody>\n",
       "</table>\n",
       "</div>"
      ],
      "text/plain": [
       "                           data type  percent missing  No. unique  \\\n",
       "Trans Creeper Gear           float64              0.0           2   \n",
       "Unique Label?                float64              0.0           3   \n",
       "Air Aspiration Method Desc   float64              0.0           5   \n",
       "Fuel Metering Sys Desc       float64              0.0           6   \n",
       "Cyl Deact?                   float64              0.0           3   \n",
       "\n",
       "                                             unique values  \n",
       "Trans Creeper Gear                              [1.0, 2.0]  \n",
       "Unique Label?                              [1.0, 2.0, 0.0]  \n",
       "Air Aspiration Method Desc       [1.0, 0.0, 3.0, 4.0, 5.0]  \n",
       "Fuel Metering Sys Desc      [1.0, 2.0, 0.0, 4.0, 5.0, 6.0]  \n",
       "Cyl Deact?                                 [1.0, 0.0, 3.0]  "
      ]
     },
     "execution_count": 89,
     "metadata": {},
     "output_type": "execute_result"
    }
   ],
   "source": [
    "#replace missing values by 0 and rechecking missing value\n",
    "cat_col.fillna(0,inplace=True)\n",
    "sniff_modified(cat_col)"
   ]
  },
  {
   "cell_type": "markdown",
   "id": "b5bb9467",
   "metadata": {},
   "source": [
    "At this point we cannot see any missing data present in categorical columns of our vehicle data set. However, there are some missing values in numeric column, which will be replaced in another part."
   ]
  },
  {
   "cell_type": "markdown",
   "id": "596a4093",
   "metadata": {},
   "source": [
    "### Part 4 - Numeric features\n",
    "\n",
    "In this part you should: \n",
    " - handle any missing values\n",
    " \n"
   ]
  },
  {
   "cell_type": "markdown",
   "id": "a489ec3a",
   "metadata": {},
   "source": [
    "In this part we replaced missing values in numeric column by the median score of that column, for this we have created 2 methods which determines numeric column of data frame and replaced missing values by median score of that column. "
   ]
  },
  {
   "cell_type": "code",
   "execution_count": 90,
   "id": "237b351d",
   "metadata": {},
   "outputs": [],
   "source": [
    "#handling missing values for numeric features\n",
    "numeric_col = df[vehicle_numeric]\n",
    "def fix_missing_num(dff, colname):\n",
    "    #df[colname+'_na'] = pd.isnull(df[colname])\n",
    "    numeric_col[colname].fillna(numeric_col[colname].median(), inplace=True)\n",
    "\n",
    "def numeric_value(num_col):\n",
    "    for col in numeric_col.select_dtypes(include='number'):\n",
    "        fix_missing_num(numeric_col,col)\n",
    "\n"
   ]
  },
  {
   "cell_type": "code",
   "execution_count": 91,
   "id": "7a0fc4b3",
   "metadata": {
    "scrolled": true
   },
   "outputs": [
    {
     "data": {
      "text/html": [
       "<div>\n",
       "<style scoped>\n",
       "    .dataframe tbody tr th:only-of-type {\n",
       "        vertical-align: middle;\n",
       "    }\n",
       "\n",
       "    .dataframe tbody tr th {\n",
       "        vertical-align: top;\n",
       "    }\n",
       "\n",
       "    .dataframe thead th {\n",
       "        text-align: right;\n",
       "    }\n",
       "</style>\n",
       "<table border=\"1\" class=\"dataframe\">\n",
       "  <thead>\n",
       "    <tr style=\"text-align: right;\">\n",
       "      <th></th>\n",
       "      <th>Eng Displ</th>\n",
       "      <th># Cyl</th>\n",
       "      <th># Gears</th>\n",
       "      <th>Max Ethanol % - Gasoline</th>\n",
       "      <th>Intake Valves Per Cyl</th>\n",
       "      <th>Exhaust Valves Per Cyl</th>\n",
       "    </tr>\n",
       "  </thead>\n",
       "  <tbody>\n",
       "    <tr>\n",
       "      <th>0</th>\n",
       "      <td>3.0</td>\n",
       "      <td>4</td>\n",
       "      <td>6</td>\n",
       "      <td>10.0</td>\n",
       "      <td>2</td>\n",
       "      <td>2</td>\n",
       "    </tr>\n",
       "    <tr>\n",
       "      <th>1</th>\n",
       "      <td>3.0</td>\n",
       "      <td>4</td>\n",
       "      <td>6</td>\n",
       "      <td>10.0</td>\n",
       "      <td>2</td>\n",
       "      <td>2</td>\n",
       "    </tr>\n",
       "    <tr>\n",
       "      <th>2</th>\n",
       "      <td>1.8</td>\n",
       "      <td>4</td>\n",
       "      <td>6</td>\n",
       "      <td>15.0</td>\n",
       "      <td>2</td>\n",
       "      <td>2</td>\n",
       "    </tr>\n",
       "    <tr>\n",
       "      <th>3</th>\n",
       "      <td>3.5</td>\n",
       "      <td>6</td>\n",
       "      <td>6</td>\n",
       "      <td>10.0</td>\n",
       "      <td>2</td>\n",
       "      <td>2</td>\n",
       "    </tr>\n",
       "    <tr>\n",
       "      <th>4</th>\n",
       "      <td>3.0</td>\n",
       "      <td>6</td>\n",
       "      <td>6</td>\n",
       "      <td>85.0</td>\n",
       "      <td>2</td>\n",
       "      <td>2</td>\n",
       "    </tr>\n",
       "  </tbody>\n",
       "</table>\n",
       "</div>"
      ],
      "text/plain": [
       "   Eng Displ  # Cyl  # Gears  Max Ethanol % - Gasoline  Intake Valves Per Cyl  \\\n",
       "0        3.0      4        6                      10.0                      2   \n",
       "1        3.0      4        6                      10.0                      2   \n",
       "2        1.8      4        6                      15.0                      2   \n",
       "3        3.5      6        6                      10.0                      2   \n",
       "4        3.0      6        6                      85.0                      2   \n",
       "\n",
       "   Exhaust Valves Per Cyl  \n",
       "0                       2  \n",
       "1                       2  \n",
       "2                       2  \n",
       "3                       2  \n",
       "4                       2  "
      ]
     },
     "execution_count": 91,
     "metadata": {},
     "output_type": "execute_result"
    }
   ],
   "source": [
    "numeric_value(numeric_col)\n",
    "numeric_col.head()"
   ]
  },
  {
   "cell_type": "code",
   "execution_count": 92,
   "id": "e03ec11a",
   "metadata": {
    "scrolled": false
   },
   "outputs": [
    {
     "data": {
      "text/html": [
       "<div>\n",
       "<style scoped>\n",
       "    .dataframe tbody tr th:only-of-type {\n",
       "        vertical-align: middle;\n",
       "    }\n",
       "\n",
       "    .dataframe tbody tr th {\n",
       "        vertical-align: top;\n",
       "    }\n",
       "\n",
       "    .dataframe thead th {\n",
       "        text-align: right;\n",
       "    }\n",
       "</style>\n",
       "<table border=\"1\" class=\"dataframe\">\n",
       "  <thead>\n",
       "    <tr style=\"text-align: right;\">\n",
       "      <th></th>\n",
       "      <th>data type</th>\n",
       "      <th>percent missing</th>\n",
       "      <th>No. unique</th>\n",
       "      <th>unique values</th>\n",
       "    </tr>\n",
       "  </thead>\n",
       "  <tbody>\n",
       "    <tr>\n",
       "      <th># Cyl</th>\n",
       "      <td>int64</td>\n",
       "      <td>0.0</td>\n",
       "      <td>7</td>\n",
       "      <td>[4, 6, 12, 8, 3, 10, 5]</td>\n",
       "    </tr>\n",
       "    <tr>\n",
       "      <th># Gears</th>\n",
       "      <td>int64</td>\n",
       "      <td>0.0</td>\n",
       "      <td>7</td>\n",
       "      <td>[6, 8, 7, 9, 5, 1, 4]</td>\n",
       "    </tr>\n",
       "    <tr>\n",
       "      <th>Intake Valves Per Cyl</th>\n",
       "      <td>int64</td>\n",
       "      <td>0.0</td>\n",
       "      <td>2</td>\n",
       "      <td>[2, 1]</td>\n",
       "    </tr>\n",
       "    <tr>\n",
       "      <th>Exhaust Valves Per Cyl</th>\n",
       "      <td>int64</td>\n",
       "      <td>0.0</td>\n",
       "      <td>2</td>\n",
       "      <td>[2, 1]</td>\n",
       "    </tr>\n",
       "    <tr>\n",
       "      <th>Eng Displ</th>\n",
       "      <td>float64</td>\n",
       "      <td>0.0</td>\n",
       "      <td>42</td>\n",
       "      <td>[3.0, 1.8, 3.5, 3.4, 2.5, 2.0, 6.3, 6.2, 1.5, ...</td>\n",
       "    </tr>\n",
       "    <tr>\n",
       "      <th>Max Ethanol % - Gasoline</th>\n",
       "      <td>float64</td>\n",
       "      <td>0.0</td>\n",
       "      <td>3</td>\n",
       "      <td>[10.0, 15.0, 85.0]</td>\n",
       "    </tr>\n",
       "  </tbody>\n",
       "</table>\n",
       "</div>"
      ],
      "text/plain": [
       "                         data type  percent missing  No. unique  \\\n",
       "# Cyl                        int64              0.0           7   \n",
       "# Gears                      int64              0.0           7   \n",
       "Intake Valves Per Cyl        int64              0.0           2   \n",
       "Exhaust Valves Per Cyl       int64              0.0           2   \n",
       "Eng Displ                  float64              0.0          42   \n",
       "Max Ethanol % - Gasoline   float64              0.0           3   \n",
       "\n",
       "                                                              unique values  \n",
       "# Cyl                                               [4, 6, 12, 8, 3, 10, 5]  \n",
       "# Gears                                               [6, 8, 7, 9, 5, 1, 4]  \n",
       "Intake Valves Per Cyl                                                [2, 1]  \n",
       "Exhaust Valves Per Cyl                                               [2, 1]  \n",
       "Eng Displ                 [3.0, 1.8, 3.5, 3.4, 2.5, 2.0, 6.3, 6.2, 1.5, ...  \n",
       "Max Ethanol % - Gasoline                                 [10.0, 15.0, 85.0]  "
      ]
     },
     "execution_count": 92,
     "metadata": {},
     "output_type": "execute_result"
    }
   ],
   "source": [
    "#Checking whether any column still have missing values or not\n",
    "sniff_modified(numeric_col)"
   ]
  },
  {
   "cell_type": "markdown",
   "id": "b661fd0d",
   "metadata": {},
   "source": [
    "From above representation it is clear that there is no any missing values in any column of the given dataset."
   ]
  },
  {
   "cell_type": "markdown",
   "id": "0cad6fd9",
   "metadata": {},
   "source": [
    "### Part 5 - Create and evaluate a final model\n",
    "\n",
    "In this part you should:\n",
    " - create and evaluate a model using all the features after processing them in Parts 2, 3, and 4 above \n"
   ]
  },
  {
   "cell_type": "markdown",
   "id": "4dea9cb8",
   "metadata": {},
   "source": [
    "In this part we have combined all features data from part 2, 3 and 4 into single dataframe."
   ]
  },
  {
   "cell_type": "code",
   "execution_count": 94,
   "id": "5ecfa99d",
   "metadata": {},
   "outputs": [
    {
     "data": {
      "text/html": [
       "<div>\n",
       "<style scoped>\n",
       "    .dataframe tbody tr th:only-of-type {\n",
       "        vertical-align: middle;\n",
       "    }\n",
       "\n",
       "    .dataframe tbody tr th {\n",
       "        vertical-align: top;\n",
       "    }\n",
       "\n",
       "    .dataframe thead th {\n",
       "        text-align: right;\n",
       "    }\n",
       "</style>\n",
       "<table border=\"1\" class=\"dataframe\">\n",
       "  <thead>\n",
       "    <tr style=\"text-align: right;\">\n",
       "      <th></th>\n",
       "      <th>Trans Creeper Gear</th>\n",
       "      <th>Unique Label?</th>\n",
       "      <th>Air Aspiration Method Desc</th>\n",
       "      <th>Fuel Metering Sys Desc</th>\n",
       "      <th>Cyl Deact?</th>\n",
       "      <th>Eng Displ</th>\n",
       "      <th># Cyl</th>\n",
       "      <th># Gears</th>\n",
       "      <th>Max Ethanol % - Gasoline</th>\n",
       "      <th>Intake Valves Per Cyl</th>\n",
       "      <th>Exhaust Valves Per Cyl</th>\n",
       "    </tr>\n",
       "  </thead>\n",
       "  <tbody>\n",
       "    <tr>\n",
       "      <th>0</th>\n",
       "      <td>1.0</td>\n",
       "      <td>1.0</td>\n",
       "      <td>1.0</td>\n",
       "      <td>1.0</td>\n",
       "      <td>1.0</td>\n",
       "      <td>3.0</td>\n",
       "      <td>4</td>\n",
       "      <td>6</td>\n",
       "      <td>10.0</td>\n",
       "      <td>2</td>\n",
       "      <td>2</td>\n",
       "    </tr>\n",
       "    <tr>\n",
       "      <th>1</th>\n",
       "      <td>1.0</td>\n",
       "      <td>1.0</td>\n",
       "      <td>0.0</td>\n",
       "      <td>2.0</td>\n",
       "      <td>1.0</td>\n",
       "      <td>3.0</td>\n",
       "      <td>4</td>\n",
       "      <td>6</td>\n",
       "      <td>10.0</td>\n",
       "      <td>2</td>\n",
       "      <td>2</td>\n",
       "    </tr>\n",
       "    <tr>\n",
       "      <th>2</th>\n",
       "      <td>1.0</td>\n",
       "      <td>1.0</td>\n",
       "      <td>0.0</td>\n",
       "      <td>1.0</td>\n",
       "      <td>0.0</td>\n",
       "      <td>1.8</td>\n",
       "      <td>4</td>\n",
       "      <td>6</td>\n",
       "      <td>15.0</td>\n",
       "      <td>2</td>\n",
       "      <td>2</td>\n",
       "    </tr>\n",
       "    <tr>\n",
       "      <th>3</th>\n",
       "      <td>1.0</td>\n",
       "      <td>1.0</td>\n",
       "      <td>0.0</td>\n",
       "      <td>2.0</td>\n",
       "      <td>0.0</td>\n",
       "      <td>3.5</td>\n",
       "      <td>6</td>\n",
       "      <td>6</td>\n",
       "      <td>10.0</td>\n",
       "      <td>2</td>\n",
       "      <td>2</td>\n",
       "    </tr>\n",
       "    <tr>\n",
       "      <th>4</th>\n",
       "      <td>1.0</td>\n",
       "      <td>1.0</td>\n",
       "      <td>1.0</td>\n",
       "      <td>1.0</td>\n",
       "      <td>1.0</td>\n",
       "      <td>3.0</td>\n",
       "      <td>6</td>\n",
       "      <td>6</td>\n",
       "      <td>85.0</td>\n",
       "      <td>2</td>\n",
       "      <td>2</td>\n",
       "    </tr>\n",
       "  </tbody>\n",
       "</table>\n",
       "</div>"
      ],
      "text/plain": [
       "   Trans Creeper Gear  Unique Label?  Air Aspiration Method Desc  \\\n",
       "0                 1.0            1.0                         1.0   \n",
       "1                 1.0            1.0                         0.0   \n",
       "2                 1.0            1.0                         0.0   \n",
       "3                 1.0            1.0                         0.0   \n",
       "4                 1.0            1.0                         1.0   \n",
       "\n",
       "   Fuel Metering Sys Desc  Cyl Deact?  Eng Displ  # Cyl  # Gears  \\\n",
       "0                     1.0         1.0        3.0      4        6   \n",
       "1                     2.0         1.0        3.0      4        6   \n",
       "2                     1.0         0.0        1.8      4        6   \n",
       "3                     2.0         0.0        3.5      6        6   \n",
       "4                     1.0         1.0        3.0      6        6   \n",
       "\n",
       "   Max Ethanol % - Gasoline  Intake Valves Per Cyl  Exhaust Valves Per Cyl  \n",
       "0                      10.0                      2                       2  \n",
       "1                      10.0                      2                       2  \n",
       "2                      15.0                      2                       2  \n",
       "3                      10.0                      2                       2  \n",
       "4                      85.0                      2                       2  "
      ]
     },
     "execution_count": 94,
     "metadata": {},
     "output_type": "execute_result"
    }
   ],
   "source": [
    "#combining data from part 2,3 and part 4\n",
    "numbers = numeric_col.columns\n",
    "final_X = cat_col[cat_features].join(numeric_col[numbers])\n",
    "final_X.head()"
   ]
  },
  {
   "cell_type": "markdown",
   "id": "8c9d67e8",
   "metadata": {},
   "source": [
    "Here we calculate the oob score of the cleaned data. The score is mean of the 10 run and random forest model has 150 trees."
   ]
  },
  {
   "cell_type": "code",
   "execution_count": 95,
   "id": "13fd1c43",
   "metadata": {},
   "outputs": [
    {
     "name": "stdout",
     "output_type": "stream",
     "text": [
      "Mean oob score:  0.7185256783344203\n"
     ]
    }
   ],
   "source": [
    "oob_scores = []\n",
    "for i in range(10):\n",
    "    rf = RandomForestRegressor(n_estimators=150, n_jobs=-1, oob_score=True) \n",
    "    rf.fit(final_X,y)\n",
    "    oob_scores.append(rf.oob_score_)\n",
    "    oob_from_final_part = np.mean(oob_scores)\n",
    "    \n",
    "print(\"Mean oob score: \", np.mean(oob_scores))"
   ]
  },
  {
   "cell_type": "markdown",
   "id": "bd11bee2",
   "metadata": {},
   "source": [
    "#### Questions (5 marks)\n",
    "\n",
    "Provide answers to the following:\n",
    " 1. calculate the percent difference between the results of Part 1 and Part 5 (make sure you are using the correct formula for percent difference) \n",
    " "
   ]
  },
  {
   "cell_type": "code",
   "execution_count": 96,
   "id": "f0203e35",
   "metadata": {
    "scrolled": true
   },
   "outputs": [
    {
     "name": "stdout",
     "output_type": "stream",
     "text": [
      "1.The percent difference between the results of out of bag score of Part1 and Part5  is -2.7 percent\n"
     ]
    }
   ],
   "source": [
    "print(f\"1.The percent difference between the results of out of bag score of Part1 and Part5  is {round(((oob_from_final_part-oob_from_1st_part)/oob_from_final_part)*100,2)} percent\" )"
   ]
  },
  {
   "cell_type": "markdown",
   "id": "dd13368b",
   "metadata": {},
   "source": [
    "2. based on the percent difference, state whether or not the results of Part 5 are an improvement over the results of Part 1\n",
    "\n",
    "\n",
    "The percent different in first and fifth part is almost negative 3 percent which means the model accuracy is decreased as we cleaned and convert features of the data from categorical to numeric. The final score is negative because in the first part we only took numeric data and we ignored the all categorical values of the entire data."
   ]
  }
 ],
 "metadata": {
  "kernelspec": {
   "display_name": "Python 3",
   "language": "python",
   "name": "python3"
  },
  "language_info": {
   "codemirror_mode": {
    "name": "ipython",
    "version": 3
   },
   "file_extension": ".py",
   "mimetype": "text/x-python",
   "name": "python",
   "nbconvert_exporter": "python",
   "pygments_lexer": "ipython3",
   "version": "3.8.8"
  }
 },
 "nbformat": 4,
 "nbformat_minor": 5
}
